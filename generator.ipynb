{
 "cells": [
  {
   "cell_type": "code",
   "execution_count": 1,
   "metadata": {},
   "outputs": [],
   "source": [
    "# import distutils\n",
    "import numpy as np\n",
    "from pickle import load \n",
    "from pickle import dump\n",
    "from PIL import Image \n",
    "import os\n",
    "import string\n",
    "import keras\n"
   ]
  },
  {
   "cell_type": "code",
   "execution_count": 10,
   "metadata": {},
   "outputs": [],
   "source": [
    "def load_file_path(filename):\n",
    "    with open(filename, 'r') as file:\n",
    "        text = file.read()\n",
    "    return text\n",
    "\n",
    "def map_image_to_captions(filename):\n",
    "    file  = load_file_path(filename)\n",
    "    lines  = file.strip().splitlines()\n",
    "    image_to_caption = {}\n",
    "    for line in lines:\n",
    "        img, caption = line.split(',', 1)\n",
    "        img = img.strip()\n",
    "        caption = caption.strip()\n",
    "\n",
    "        if img not in image_to_caption:\n",
    "            image_to_caption[img] = [caption]\n",
    "        else:\n",
    "            image_to_caption[img].append(caption)\n",
    "    return image_to_caption\n",
    "\n",
    "def clean_captions(image_to_caption):\n",
    "    translation_table = str.maketrans('', '', string.punctuation)\n",
    "\n",
    "    for img, caps in image_to_caption.items():\n",
    "        for i in range(len(caps)):\n",
    "            img_caption = caps[i].replace(\"-\", \" \")\n",
    "            tokens = img_caption.split()\n",
    "            cleaned_words = [\n",
    "                word.lower().translate(translation_table) for word in tokens\n",
    "                if len(word) > 1 and word.isalpha()\n",
    "            ]\n",
    "            caps[i] = ' '.join(cleaned_words)\n",
    "    return image_to_caption\n",
    "\n",
    "\n",
    "def create_vocab(image_to_caption):\n",
    "    vocab = set()\n",
    "    for img, caps in image_to_caption.items():\n",
    "        for caption in caps:\n",
    "            vocab.update(caption.split()) \n",
    "\n",
    "    return vocab\n",
    "\n",
    "\n",
    "def save_img_to_captions(image_to_caption, filename_to_save):\n",
    "    lines = []\n",
    "    for img, caps in image_to_caption.items():\n",
    "        for caption in caps:\n",
    "            lines.append(img + '\\t' + caption)\n",
    "\n",
    "    data = \"\\n\".join(lines) \n",
    "    with open(filename_to_save, \"w\") as file:\n",
    "        file.write(data)\n"
   ]
  },
  {
   "cell_type": "code",
   "execution_count": 11,
   "metadata": {},
   "outputs": [
    {
     "name": "stdout",
     "output_type": "stream",
     "text": [
      "length of dictionary =  8092\n",
      "length of vocabulary = 8405\n"
     ]
    }
   ],
   "source": [
    "dataset_text = r'C:\\Users\\user\\Desktop\\ML\\Image_Caption_Generator\\flickr8k\\captions.txt'\n",
    "\n",
    "image_to_caption = map_image_to_captions(dataset_text)\n",
    "print(\"length of dictionary = \" ,len(image_to_caption))\n",
    "\n",
    "clean_texts = clean_captions(image_to_caption)\n",
    "\n",
    "vocabulary = create_vocab(image_to_caption)\n",
    "print('length of vocabulary =', len(vocabulary))\n",
    "\n",
    "save_img_to_captions(clean_texts, 'img_caption.txt')"
   ]
  },
  {
   "cell_type": "code",
   "execution_count": null,
   "metadata": {},
   "outputs": [],
   "source": []
  },
  {
   "cell_type": "code",
   "execution_count": null,
   "metadata": {},
   "outputs": [],
   "source": []
  }
 ],
 "metadata": {
  "kernelspec": {
   "display_name": "myenv",
   "language": "python",
   "name": "python3"
  },
  "language_info": {
   "codemirror_mode": {
    "name": "ipython",
    "version": 3
   },
   "file_extension": ".py",
   "mimetype": "text/x-python",
   "name": "python",
   "nbconvert_exporter": "python",
   "pygments_lexer": "ipython3",
   "version": "3.12.4"
  }
 },
 "nbformat": 4,
 "nbformat_minor": 2
}
